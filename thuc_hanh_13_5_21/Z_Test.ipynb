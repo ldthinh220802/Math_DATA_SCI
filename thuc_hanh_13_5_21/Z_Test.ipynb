{
  "nbformat": 4,
  "nbformat_minor": 0,
  "metadata": {
    "colab": {
      "name": "Z-test_BTVN.ipynb",
      "provenance": [],
      "collapsed_sections": [],
      "include_colab_link": true
    },
    "kernelspec": {
      "name": "python3",
      "display_name": "Python 3"
    },
    "language_info": {
      "name": "python"
    }
  },
  "cells": [
    {
      "cell_type": "markdown",
      "metadata": {
        "id": "view-in-github",
        "colab_type": "text"
      },
      "source": [
        "<a href=\"https://colab.research.google.com/github/ldthinh220802/Math_DATA_SCI/blob/main/thuc_hanh_13_5_21/Z_Test.ipynb\" target=\"_parent\"><img src=\"https://colab.research.google.com/assets/colab-badge.svg\" alt=\"Open In Colab\"/></a>"
      ]
    },
    {
      "cell_type": "code",
      "metadata": {
        "colab": {
          "base_uri": "https://localhost:8080/"
        },
        "id": "Ug3BGXLCru7E",
        "outputId": "e579b113-f01b-4283-d0b4-155b5da120a7"
      },
      "source": [
        "pip install scipy==1.6.3"
      ],
      "execution_count": null,
      "outputs": [
        {
          "output_type": "stream",
          "text": [
            "Requirement already satisfied: scipy==1.6.3 in /usr/local/lib/python3.7/dist-packages (1.6.3)\n",
            "Requirement already satisfied: numpy<1.23.0,>=1.16.5 in /usr/local/lib/python3.7/dist-packages (from scipy==1.6.3) (1.19.5)\n"
          ],
          "name": "stdout"
        }
      ]
    },
    {
      "cell_type": "code",
      "metadata": {
        "colab": {
          "base_uri": "https://localhost:8080/"
        },
        "id": "62ma-ILZmicO",
        "outputId": "7e36e41c-d12d-4a4c-e1cd-4d1c337c5cef"
      },
      "source": [
        "import numpy as np\n",
        "import pandas as pd\n",
        "from matplotlib import pyplot as plt\n",
        "from scipy import stats, interpolate\n",
        "import seaborn as sns\n",
        "import statsmodels.api as sm\n",
        "%matplotlib inline\n",
        "plt.rcParams['figure.figsize'] = [16, 9]\n",
        "plt.rcParams['figure.dpi'] = 100\n",
        "plt.rcParams.update({'font.size': 18})"
      ],
      "execution_count": null,
      "outputs": [
        {
          "output_type": "stream",
          "text": [
            "/usr/local/lib/python3.7/dist-packages/statsmodels/tools/_testing.py:19: FutureWarning: pandas.util.testing is deprecated. Use the functions in the public API at pandas.testing instead.\n",
            "  import pandas.util.testing as tm\n"
          ],
          "name": "stderr"
        }
      ]
    },
    {
      "cell_type": "code",
      "metadata": {
        "colab": {
          "base_uri": "https://localhost:8080/"
        },
        "id": "SUTGE3JamwN9",
        "outputId": "311ff393-d3e9-4657-fe9a-5407451e9264"
      },
      "source": [
        "# Tính giá trị tới hạn bằng scipy và hàm ppf (hàm ngược của hàm cdf) #\n",
        "from scipy.stats import norm\n",
        "def critical_value(alpha, tail=0):\n",
        "    '''Tính giá trị tới hạn: tail=0:: 2phia; tail=-1:left; tail=1:right'''\n",
        "    if tail == -1: return norm.ppf(alpha)\n",
        "    elif tail == 1: return norm.ppf(1-alpha)\n",
        "    else: return (norm.ppf(alpha/2), norm.ppf(1-alpha/2))\n",
        "\n",
        "alpha = 0.05\n",
        "# tu bang A.2 chon t_* = 1.96\n",
        "# dung ham cdf de tinh gia tri p chinh xac neu t_*=1.96\n",
        "print(f\"Giá trị tới hạn 2 phía: {critical_value(alpha)}\")\n",
        "print(f\"Giá trị tới hạn 1 phía (trái): {critical_value(alpha, tail=-1)}\")\n",
        "print(f\"Giá trị tới hạn 1 phía (phải): {critical_value(alpha, tail=1)}\")\n",
        "# Khi thi ta chấp nhận t_* = 1.96\n",
        "# Trong khi thực hành thì ta không chấp nhận t_*=1.96 mà giá trị thực là t_* = 1.959963984540054"
      ],
      "execution_count": null,
      "outputs": [
        {
          "output_type": "stream",
          "text": [
            "Giá trị tới hạn 2 phía: (-1.9599639845400545, 1.959963984540054)\n",
            "Giá trị tới hạn 1 phía (trái): -1.6448536269514729\n",
            "Giá trị tới hạn 1 phía (phải): 1.6448536269514722\n"
          ],
          "name": "stdout"
        }
      ]
    },
    {
      "cell_type": "code",
      "metadata": {
        "colab": {
          "base_uri": "https://localhost:8080/",
          "height": 244
        },
        "id": "CmKChGFGmzTd",
        "outputId": "62e7336e-c28f-4cd4-9984-b2fe940784ec"
      },
      "source": [
        "gia_nha_dat_us = pd.read_csv(\"gia_nha_dat_us.csv\")\n",
        "gia_nha_dat_us.head()"
      ],
      "execution_count": null,
      "outputs": [
        {
          "output_type": "execute_result",
          "data": {
            "text/html": [
              "<div>\n",
              "<style scoped>\n",
              "    .dataframe tbody tr th:only-of-type {\n",
              "        vertical-align: middle;\n",
              "    }\n",
              "\n",
              "    .dataframe tbody tr th {\n",
              "        vertical-align: top;\n",
              "    }\n",
              "\n",
              "    .dataframe thead th {\n",
              "        text-align: right;\n",
              "    }\n",
              "</style>\n",
              "<table border=\"1\" class=\"dataframe\">\n",
              "  <thead>\n",
              "    <tr style=\"text-align: right;\">\n",
              "      <th></th>\n",
              "      <th>Id</th>\n",
              "      <th>MSSubClass</th>\n",
              "      <th>MSZoning</th>\n",
              "      <th>LotFrontage</th>\n",
              "      <th>LotArea</th>\n",
              "      <th>Street</th>\n",
              "      <th>Alley</th>\n",
              "      <th>LotShape</th>\n",
              "      <th>LandContour</th>\n",
              "      <th>Utilities</th>\n",
              "      <th>LotConfig</th>\n",
              "      <th>LandSlope</th>\n",
              "      <th>Neighborhood</th>\n",
              "      <th>Condition1</th>\n",
              "      <th>Condition2</th>\n",
              "      <th>BldgType</th>\n",
              "      <th>HouseStyle</th>\n",
              "      <th>OverallQual</th>\n",
              "      <th>OverallCond</th>\n",
              "      <th>YearBuilt</th>\n",
              "      <th>YearRemodAdd</th>\n",
              "      <th>RoofStyle</th>\n",
              "      <th>RoofMatl</th>\n",
              "      <th>Exterior1st</th>\n",
              "      <th>Exterior2nd</th>\n",
              "      <th>MasVnrType</th>\n",
              "      <th>MasVnrArea</th>\n",
              "      <th>ExterQual</th>\n",
              "      <th>ExterCond</th>\n",
              "      <th>Foundation</th>\n",
              "      <th>BsmtQual</th>\n",
              "      <th>BsmtCond</th>\n",
              "      <th>BsmtExposure</th>\n",
              "      <th>BsmtFinType1</th>\n",
              "      <th>BsmtFinSF1</th>\n",
              "      <th>BsmtFinType2</th>\n",
              "      <th>BsmtFinSF2</th>\n",
              "      <th>BsmtUnfSF</th>\n",
              "      <th>TotalBsmtSF</th>\n",
              "      <th>Heating</th>\n",
              "      <th>...</th>\n",
              "      <th>CentralAir</th>\n",
              "      <th>Electrical</th>\n",
              "      <th>1stFlrSF</th>\n",
              "      <th>2ndFlrSF</th>\n",
              "      <th>LowQualFinSF</th>\n",
              "      <th>GrLivArea</th>\n",
              "      <th>BsmtFullBath</th>\n",
              "      <th>BsmtHalfBath</th>\n",
              "      <th>FullBath</th>\n",
              "      <th>HalfBath</th>\n",
              "      <th>BedroomAbvGr</th>\n",
              "      <th>KitchenAbvGr</th>\n",
              "      <th>KitchenQual</th>\n",
              "      <th>TotRmsAbvGrd</th>\n",
              "      <th>Functional</th>\n",
              "      <th>Fireplaces</th>\n",
              "      <th>FireplaceQu</th>\n",
              "      <th>GarageType</th>\n",
              "      <th>GarageYrBlt</th>\n",
              "      <th>GarageFinish</th>\n",
              "      <th>GarageCars</th>\n",
              "      <th>GarageArea</th>\n",
              "      <th>GarageQual</th>\n",
              "      <th>GarageCond</th>\n",
              "      <th>PavedDrive</th>\n",
              "      <th>WoodDeckSF</th>\n",
              "      <th>OpenPorchSF</th>\n",
              "      <th>EnclosedPorch</th>\n",
              "      <th>3SsnPorch</th>\n",
              "      <th>ScreenPorch</th>\n",
              "      <th>PoolArea</th>\n",
              "      <th>PoolQC</th>\n",
              "      <th>Fence</th>\n",
              "      <th>MiscFeature</th>\n",
              "      <th>MiscVal</th>\n",
              "      <th>MoSold</th>\n",
              "      <th>YrSold</th>\n",
              "      <th>SaleType</th>\n",
              "      <th>SaleCondition</th>\n",
              "      <th>SalePrice</th>\n",
              "    </tr>\n",
              "  </thead>\n",
              "  <tbody>\n",
              "    <tr>\n",
              "      <th>0</th>\n",
              "      <td>1</td>\n",
              "      <td>60</td>\n",
              "      <td>RL</td>\n",
              "      <td>65.0</td>\n",
              "      <td>8450</td>\n",
              "      <td>Pave</td>\n",
              "      <td>NaN</td>\n",
              "      <td>Reg</td>\n",
              "      <td>Lvl</td>\n",
              "      <td>AllPub</td>\n",
              "      <td>Inside</td>\n",
              "      <td>Gtl</td>\n",
              "      <td>CollgCr</td>\n",
              "      <td>Norm</td>\n",
              "      <td>Norm</td>\n",
              "      <td>1Fam</td>\n",
              "      <td>2Story</td>\n",
              "      <td>7</td>\n",
              "      <td>5</td>\n",
              "      <td>2003</td>\n",
              "      <td>2003</td>\n",
              "      <td>Gable</td>\n",
              "      <td>CompShg</td>\n",
              "      <td>VinylSd</td>\n",
              "      <td>VinylSd</td>\n",
              "      <td>BrkFace</td>\n",
              "      <td>196.0</td>\n",
              "      <td>Gd</td>\n",
              "      <td>TA</td>\n",
              "      <td>PConc</td>\n",
              "      <td>Gd</td>\n",
              "      <td>TA</td>\n",
              "      <td>No</td>\n",
              "      <td>GLQ</td>\n",
              "      <td>706</td>\n",
              "      <td>Unf</td>\n",
              "      <td>0</td>\n",
              "      <td>150</td>\n",
              "      <td>856</td>\n",
              "      <td>GasA</td>\n",
              "      <td>...</td>\n",
              "      <td>Y</td>\n",
              "      <td>SBrkr</td>\n",
              "      <td>856</td>\n",
              "      <td>854</td>\n",
              "      <td>0</td>\n",
              "      <td>1710</td>\n",
              "      <td>1</td>\n",
              "      <td>0</td>\n",
              "      <td>2</td>\n",
              "      <td>1</td>\n",
              "      <td>3</td>\n",
              "      <td>1</td>\n",
              "      <td>Gd</td>\n",
              "      <td>8</td>\n",
              "      <td>Typ</td>\n",
              "      <td>0</td>\n",
              "      <td>NaN</td>\n",
              "      <td>Attchd</td>\n",
              "      <td>2003.0</td>\n",
              "      <td>RFn</td>\n",
              "      <td>2</td>\n",
              "      <td>548</td>\n",
              "      <td>TA</td>\n",
              "      <td>TA</td>\n",
              "      <td>Y</td>\n",
              "      <td>0</td>\n",
              "      <td>61</td>\n",
              "      <td>0</td>\n",
              "      <td>0</td>\n",
              "      <td>0</td>\n",
              "      <td>0</td>\n",
              "      <td>NaN</td>\n",
              "      <td>NaN</td>\n",
              "      <td>NaN</td>\n",
              "      <td>0</td>\n",
              "      <td>2</td>\n",
              "      <td>2008</td>\n",
              "      <td>WD</td>\n",
              "      <td>Normal</td>\n",
              "      <td>208500</td>\n",
              "    </tr>\n",
              "    <tr>\n",
              "      <th>1</th>\n",
              "      <td>2</td>\n",
              "      <td>20</td>\n",
              "      <td>RL</td>\n",
              "      <td>80.0</td>\n",
              "      <td>9600</td>\n",
              "      <td>Pave</td>\n",
              "      <td>NaN</td>\n",
              "      <td>Reg</td>\n",
              "      <td>Lvl</td>\n",
              "      <td>AllPub</td>\n",
              "      <td>FR2</td>\n",
              "      <td>Gtl</td>\n",
              "      <td>Veenker</td>\n",
              "      <td>Feedr</td>\n",
              "      <td>Norm</td>\n",
              "      <td>1Fam</td>\n",
              "      <td>1Story</td>\n",
              "      <td>6</td>\n",
              "      <td>8</td>\n",
              "      <td>1976</td>\n",
              "      <td>1976</td>\n",
              "      <td>Gable</td>\n",
              "      <td>CompShg</td>\n",
              "      <td>MetalSd</td>\n",
              "      <td>MetalSd</td>\n",
              "      <td>None</td>\n",
              "      <td>0.0</td>\n",
              "      <td>TA</td>\n",
              "      <td>TA</td>\n",
              "      <td>CBlock</td>\n",
              "      <td>Gd</td>\n",
              "      <td>TA</td>\n",
              "      <td>Gd</td>\n",
              "      <td>ALQ</td>\n",
              "      <td>978</td>\n",
              "      <td>Unf</td>\n",
              "      <td>0</td>\n",
              "      <td>284</td>\n",
              "      <td>1262</td>\n",
              "      <td>GasA</td>\n",
              "      <td>...</td>\n",
              "      <td>Y</td>\n",
              "      <td>SBrkr</td>\n",
              "      <td>1262</td>\n",
              "      <td>0</td>\n",
              "      <td>0</td>\n",
              "      <td>1262</td>\n",
              "      <td>0</td>\n",
              "      <td>1</td>\n",
              "      <td>2</td>\n",
              "      <td>0</td>\n",
              "      <td>3</td>\n",
              "      <td>1</td>\n",
              "      <td>TA</td>\n",
              "      <td>6</td>\n",
              "      <td>Typ</td>\n",
              "      <td>1</td>\n",
              "      <td>TA</td>\n",
              "      <td>Attchd</td>\n",
              "      <td>1976.0</td>\n",
              "      <td>RFn</td>\n",
              "      <td>2</td>\n",
              "      <td>460</td>\n",
              "      <td>TA</td>\n",
              "      <td>TA</td>\n",
              "      <td>Y</td>\n",
              "      <td>298</td>\n",
              "      <td>0</td>\n",
              "      <td>0</td>\n",
              "      <td>0</td>\n",
              "      <td>0</td>\n",
              "      <td>0</td>\n",
              "      <td>NaN</td>\n",
              "      <td>NaN</td>\n",
              "      <td>NaN</td>\n",
              "      <td>0</td>\n",
              "      <td>5</td>\n",
              "      <td>2007</td>\n",
              "      <td>WD</td>\n",
              "      <td>Normal</td>\n",
              "      <td>181500</td>\n",
              "    </tr>\n",
              "    <tr>\n",
              "      <th>2</th>\n",
              "      <td>3</td>\n",
              "      <td>60</td>\n",
              "      <td>RL</td>\n",
              "      <td>68.0</td>\n",
              "      <td>11250</td>\n",
              "      <td>Pave</td>\n",
              "      <td>NaN</td>\n",
              "      <td>IR1</td>\n",
              "      <td>Lvl</td>\n",
              "      <td>AllPub</td>\n",
              "      <td>Inside</td>\n",
              "      <td>Gtl</td>\n",
              "      <td>CollgCr</td>\n",
              "      <td>Norm</td>\n",
              "      <td>Norm</td>\n",
              "      <td>1Fam</td>\n",
              "      <td>2Story</td>\n",
              "      <td>7</td>\n",
              "      <td>5</td>\n",
              "      <td>2001</td>\n",
              "      <td>2002</td>\n",
              "      <td>Gable</td>\n",
              "      <td>CompShg</td>\n",
              "      <td>VinylSd</td>\n",
              "      <td>VinylSd</td>\n",
              "      <td>BrkFace</td>\n",
              "      <td>162.0</td>\n",
              "      <td>Gd</td>\n",
              "      <td>TA</td>\n",
              "      <td>PConc</td>\n",
              "      <td>Gd</td>\n",
              "      <td>TA</td>\n",
              "      <td>Mn</td>\n",
              "      <td>GLQ</td>\n",
              "      <td>486</td>\n",
              "      <td>Unf</td>\n",
              "      <td>0</td>\n",
              "      <td>434</td>\n",
              "      <td>920</td>\n",
              "      <td>GasA</td>\n",
              "      <td>...</td>\n",
              "      <td>Y</td>\n",
              "      <td>SBrkr</td>\n",
              "      <td>920</td>\n",
              "      <td>866</td>\n",
              "      <td>0</td>\n",
              "      <td>1786</td>\n",
              "      <td>1</td>\n",
              "      <td>0</td>\n",
              "      <td>2</td>\n",
              "      <td>1</td>\n",
              "      <td>3</td>\n",
              "      <td>1</td>\n",
              "      <td>Gd</td>\n",
              "      <td>6</td>\n",
              "      <td>Typ</td>\n",
              "      <td>1</td>\n",
              "      <td>TA</td>\n",
              "      <td>Attchd</td>\n",
              "      <td>2001.0</td>\n",
              "      <td>RFn</td>\n",
              "      <td>2</td>\n",
              "      <td>608</td>\n",
              "      <td>TA</td>\n",
              "      <td>TA</td>\n",
              "      <td>Y</td>\n",
              "      <td>0</td>\n",
              "      <td>42</td>\n",
              "      <td>0</td>\n",
              "      <td>0</td>\n",
              "      <td>0</td>\n",
              "      <td>0</td>\n",
              "      <td>NaN</td>\n",
              "      <td>NaN</td>\n",
              "      <td>NaN</td>\n",
              "      <td>0</td>\n",
              "      <td>9</td>\n",
              "      <td>2008</td>\n",
              "      <td>WD</td>\n",
              "      <td>Normal</td>\n",
              "      <td>223500</td>\n",
              "    </tr>\n",
              "    <tr>\n",
              "      <th>3</th>\n",
              "      <td>4</td>\n",
              "      <td>70</td>\n",
              "      <td>RL</td>\n",
              "      <td>60.0</td>\n",
              "      <td>9550</td>\n",
              "      <td>Pave</td>\n",
              "      <td>NaN</td>\n",
              "      <td>IR1</td>\n",
              "      <td>Lvl</td>\n",
              "      <td>AllPub</td>\n",
              "      <td>Corner</td>\n",
              "      <td>Gtl</td>\n",
              "      <td>Crawfor</td>\n",
              "      <td>Norm</td>\n",
              "      <td>Norm</td>\n",
              "      <td>1Fam</td>\n",
              "      <td>2Story</td>\n",
              "      <td>7</td>\n",
              "      <td>5</td>\n",
              "      <td>1915</td>\n",
              "      <td>1970</td>\n",
              "      <td>Gable</td>\n",
              "      <td>CompShg</td>\n",
              "      <td>Wd Sdng</td>\n",
              "      <td>Wd Shng</td>\n",
              "      <td>None</td>\n",
              "      <td>0.0</td>\n",
              "      <td>TA</td>\n",
              "      <td>TA</td>\n",
              "      <td>BrkTil</td>\n",
              "      <td>TA</td>\n",
              "      <td>Gd</td>\n",
              "      <td>No</td>\n",
              "      <td>ALQ</td>\n",
              "      <td>216</td>\n",
              "      <td>Unf</td>\n",
              "      <td>0</td>\n",
              "      <td>540</td>\n",
              "      <td>756</td>\n",
              "      <td>GasA</td>\n",
              "      <td>...</td>\n",
              "      <td>Y</td>\n",
              "      <td>SBrkr</td>\n",
              "      <td>961</td>\n",
              "      <td>756</td>\n",
              "      <td>0</td>\n",
              "      <td>1717</td>\n",
              "      <td>1</td>\n",
              "      <td>0</td>\n",
              "      <td>1</td>\n",
              "      <td>0</td>\n",
              "      <td>3</td>\n",
              "      <td>1</td>\n",
              "      <td>Gd</td>\n",
              "      <td>7</td>\n",
              "      <td>Typ</td>\n",
              "      <td>1</td>\n",
              "      <td>Gd</td>\n",
              "      <td>Detchd</td>\n",
              "      <td>1998.0</td>\n",
              "      <td>Unf</td>\n",
              "      <td>3</td>\n",
              "      <td>642</td>\n",
              "      <td>TA</td>\n",
              "      <td>TA</td>\n",
              "      <td>Y</td>\n",
              "      <td>0</td>\n",
              "      <td>35</td>\n",
              "      <td>272</td>\n",
              "      <td>0</td>\n",
              "      <td>0</td>\n",
              "      <td>0</td>\n",
              "      <td>NaN</td>\n",
              "      <td>NaN</td>\n",
              "      <td>NaN</td>\n",
              "      <td>0</td>\n",
              "      <td>2</td>\n",
              "      <td>2006</td>\n",
              "      <td>WD</td>\n",
              "      <td>Abnorml</td>\n",
              "      <td>140000</td>\n",
              "    </tr>\n",
              "    <tr>\n",
              "      <th>4</th>\n",
              "      <td>5</td>\n",
              "      <td>60</td>\n",
              "      <td>RL</td>\n",
              "      <td>84.0</td>\n",
              "      <td>14260</td>\n",
              "      <td>Pave</td>\n",
              "      <td>NaN</td>\n",
              "      <td>IR1</td>\n",
              "      <td>Lvl</td>\n",
              "      <td>AllPub</td>\n",
              "      <td>FR2</td>\n",
              "      <td>Gtl</td>\n",
              "      <td>NoRidge</td>\n",
              "      <td>Norm</td>\n",
              "      <td>Norm</td>\n",
              "      <td>1Fam</td>\n",
              "      <td>2Story</td>\n",
              "      <td>8</td>\n",
              "      <td>5</td>\n",
              "      <td>2000</td>\n",
              "      <td>2000</td>\n",
              "      <td>Gable</td>\n",
              "      <td>CompShg</td>\n",
              "      <td>VinylSd</td>\n",
              "      <td>VinylSd</td>\n",
              "      <td>BrkFace</td>\n",
              "      <td>350.0</td>\n",
              "      <td>Gd</td>\n",
              "      <td>TA</td>\n",
              "      <td>PConc</td>\n",
              "      <td>Gd</td>\n",
              "      <td>TA</td>\n",
              "      <td>Av</td>\n",
              "      <td>GLQ</td>\n",
              "      <td>655</td>\n",
              "      <td>Unf</td>\n",
              "      <td>0</td>\n",
              "      <td>490</td>\n",
              "      <td>1145</td>\n",
              "      <td>GasA</td>\n",
              "      <td>...</td>\n",
              "      <td>Y</td>\n",
              "      <td>SBrkr</td>\n",
              "      <td>1145</td>\n",
              "      <td>1053</td>\n",
              "      <td>0</td>\n",
              "      <td>2198</td>\n",
              "      <td>1</td>\n",
              "      <td>0</td>\n",
              "      <td>2</td>\n",
              "      <td>1</td>\n",
              "      <td>4</td>\n",
              "      <td>1</td>\n",
              "      <td>Gd</td>\n",
              "      <td>9</td>\n",
              "      <td>Typ</td>\n",
              "      <td>1</td>\n",
              "      <td>TA</td>\n",
              "      <td>Attchd</td>\n",
              "      <td>2000.0</td>\n",
              "      <td>RFn</td>\n",
              "      <td>3</td>\n",
              "      <td>836</td>\n",
              "      <td>TA</td>\n",
              "      <td>TA</td>\n",
              "      <td>Y</td>\n",
              "      <td>192</td>\n",
              "      <td>84</td>\n",
              "      <td>0</td>\n",
              "      <td>0</td>\n",
              "      <td>0</td>\n",
              "      <td>0</td>\n",
              "      <td>NaN</td>\n",
              "      <td>NaN</td>\n",
              "      <td>NaN</td>\n",
              "      <td>0</td>\n",
              "      <td>12</td>\n",
              "      <td>2008</td>\n",
              "      <td>WD</td>\n",
              "      <td>Normal</td>\n",
              "      <td>250000</td>\n",
              "    </tr>\n",
              "  </tbody>\n",
              "</table>\n",
              "<p>5 rows × 81 columns</p>\n",
              "</div>"
            ],
            "text/plain": [
              "   Id  MSSubClass MSZoning  ...  SaleType  SaleCondition SalePrice\n",
              "0   1          60       RL  ...        WD         Normal    208500\n",
              "1   2          20       RL  ...        WD         Normal    181500\n",
              "2   3          60       RL  ...        WD         Normal    223500\n",
              "3   4          70       RL  ...        WD        Abnorml    140000\n",
              "4   5          60       RL  ...        WD         Normal    250000\n",
              "\n",
              "[5 rows x 81 columns]"
            ]
          },
          "metadata": {
            "tags": []
          },
          "execution_count": 4
        }
      ]
    },
    {
      "cell_type": "code",
      "metadata": {
        "colab": {
          "base_uri": "https://localhost:8080/",
          "height": 195
        },
        "id": "QFDwWhwBm_IU",
        "outputId": "8a9a78dd-2ea3-42da-ac66-a74f5ee94f08"
      },
      "source": [
        "df = gia_nha_dat_us[['MSSubClass', 'MSZoning', 'LotArea', 'SalePrice']]\n",
        "df.head()"
      ],
      "execution_count": null,
      "outputs": [
        {
          "output_type": "execute_result",
          "data": {
            "text/html": [
              "<div>\n",
              "<style scoped>\n",
              "    .dataframe tbody tr th:only-of-type {\n",
              "        vertical-align: middle;\n",
              "    }\n",
              "\n",
              "    .dataframe tbody tr th {\n",
              "        vertical-align: top;\n",
              "    }\n",
              "\n",
              "    .dataframe thead th {\n",
              "        text-align: right;\n",
              "    }\n",
              "</style>\n",
              "<table border=\"1\" class=\"dataframe\">\n",
              "  <thead>\n",
              "    <tr style=\"text-align: right;\">\n",
              "      <th></th>\n",
              "      <th>MSSubClass</th>\n",
              "      <th>MSZoning</th>\n",
              "      <th>LotArea</th>\n",
              "      <th>SalePrice</th>\n",
              "    </tr>\n",
              "  </thead>\n",
              "  <tbody>\n",
              "    <tr>\n",
              "      <th>0</th>\n",
              "      <td>60</td>\n",
              "      <td>RL</td>\n",
              "      <td>8450</td>\n",
              "      <td>208500</td>\n",
              "    </tr>\n",
              "    <tr>\n",
              "      <th>1</th>\n",
              "      <td>20</td>\n",
              "      <td>RL</td>\n",
              "      <td>9600</td>\n",
              "      <td>181500</td>\n",
              "    </tr>\n",
              "    <tr>\n",
              "      <th>2</th>\n",
              "      <td>60</td>\n",
              "      <td>RL</td>\n",
              "      <td>11250</td>\n",
              "      <td>223500</td>\n",
              "    </tr>\n",
              "    <tr>\n",
              "      <th>3</th>\n",
              "      <td>70</td>\n",
              "      <td>RL</td>\n",
              "      <td>9550</td>\n",
              "      <td>140000</td>\n",
              "    </tr>\n",
              "    <tr>\n",
              "      <th>4</th>\n",
              "      <td>60</td>\n",
              "      <td>RL</td>\n",
              "      <td>14260</td>\n",
              "      <td>250000</td>\n",
              "    </tr>\n",
              "  </tbody>\n",
              "</table>\n",
              "</div>"
            ],
            "text/plain": [
              "   MSSubClass MSZoning  LotArea  SalePrice\n",
              "0          60       RL     8450     208500\n",
              "1          20       RL     9600     181500\n",
              "2          60       RL    11250     223500\n",
              "3          70       RL     9550     140000\n",
              "4          60       RL    14260     250000"
            ]
          },
          "metadata": {
            "tags": []
          },
          "execution_count": 5
        }
      ]
    },
    {
      "cell_type": "code",
      "metadata": {
        "colab": {
          "base_uri": "https://localhost:8080/",
          "height": 265
        },
        "id": "2PnpIoPhnA4W",
        "outputId": "1c2dd210-85d3-430f-9847-cbb4ea22b538"
      },
      "source": [
        "# Engineering feature: log transform #\n",
        "data = df['SalePrice']\n",
        "# Sử dụng ln(1+r) ~ r để tránh rate of change #\n",
        "data = np.log1p(data)\n",
        "\n",
        "# Kiem tra data co chuan hay khong?\n",
        "mean = np.mean(data)\n",
        "# ddof=1 :: hiệu chỉnh\n",
        "std = np.std(data, ddof=1)\n",
        "domain = np.linspace(np.min(data), np.max(data))\n",
        "plt.plot(domain, stats.norm.pdf(domain, mean, std))\n",
        "#density=True :: chuẩn hóa dữ liệu về normal\n",
        "plt.hist(data, edgecolor='green', density=True)\n",
        "plt.show()"
      ],
      "execution_count": null,
      "outputs": [
        {
          "output_type": "display_data",
          "data": {
            "image/png": "[encoded data removed]",
            "text/plain": [
              "<Figure size 432x288 with 1 Axes>"
            ]
          },
          "metadata": {
            "tags": [],
            "needs_background": "light"
          }
        }
      ]
    },
    {
      "cell_type": "code",
      "metadata": {
        "colab": {
          "base_uri": "https://localhost:8080/",
          "height": 279
        },
        "id": "JNFW8CWHnCoM",
        "outputId": "b28bb036-aa45-41b6-f87b-b3ed7440bc34"
      },
      "source": [
        "def standadize(data):\n",
        "    mean = np.mean(data)\n",
        "    std = np.std(data)\n",
        "    return (data - mean)/std\n",
        "\n",
        "sm.qqplot(standadize(data), line ='45')\n",
        "plt.show()"
      ],
      "execution_count": null,
      "outputs": [
        {
          "output_type": "display_data",
          "data": {
            "image/png": "[encoded data removed]",
            "text/plain": [
              "<Figure size 432x288 with 1 Axes>"
            ]
          },
          "metadata": {
            "tags": [],
            "needs_background": "light"
          }
        }
      ]
    },
    {
      "cell_type": "code",
      "metadata": {
        "colab": {
          "base_uri": "https://localhost:8080/"
        },
        "id": "-vjrmbRCnVL8",
        "outputId": "910a45b9-ab19-4aa4-985c-bd8c2f4b1ca7"
      },
      "source": [
        "my_mean = 150000\n",
        "my_log_mean = np.log1p(my_mean)\n",
        "print(my_log_mean)"
      ],
      "execution_count": null,
      "outputs": [
        {
          "output_type": "stream",
          "text": [
            "11.918397239722838\n"
          ],
          "name": "stdout"
        }
      ]
    },
    {
      "cell_type": "code",
      "metadata": {
        "id": "VxTedS9unXrc"
      },
      "source": [
        "def results(p, vals=['mean1', 'mean2'], alpha=0.05):\n",
        "    cols=['score', 'p_value', 'KetLuan']\n",
        "    if p['p_value'] < alpha:\n",
        "           p['KetLuan'] = f\"Chấp nhận H1 với mức ý nghĩa {alpha}\"\n",
        "    if p['p_value'] >= alpha:\n",
        "           p['KetLuan'] = f\"Chấp nhận H0 với mức ý nghĩa {alpha}\"\n",
        "    df = pd.DataFrame(p, index=[''])\n",
        "    if vals: cols = vals + cols\n",
        "    return df[cols]"
      ],
      "execution_count": null,
      "outputs": []
    },
    {
      "cell_type": "code",
      "metadata": {
        "id": "3iLXhF9DnYml"
      },
      "source": [
        "# Lay ngau nhien 100 diem du lieu #\n",
        "sample_1 = data.sample(n=100)"
      ],
      "execution_count": null,
      "outputs": []
    },
    {
      "cell_type": "code",
      "metadata": {
        "colab": {
          "base_uri": "https://localhost:8080/",
          "height": 94
        },
        "id": "xnNQ3qwynaUU",
        "outputId": "7400e005-e850-48db-a8c1-644f5d0da2af"
      },
      "source": [
        "#Kiem dinh mean cua sample so voi ky vong mu_0=11.918397239722838\n",
        "# kiem dinh 2 phia: H0: mu = mu_0, H1: mu != mu_0\n",
        "from scipy.stats import ttest_1samp\n",
        "p = {}\n",
        "p['mean1'] = np.mean(sample_1)\n",
        "p['mean2'] = my_log_mean\n",
        "p['score'], p['p_value'] = ttest_1samp(sample_1, my_log_mean)\n",
        "results(p)"
      ],
      "execution_count": null,
      "outputs": [
        {
          "output_type": "stream",
          "text": [
            "{'mean1': 12.024019020289739, 'mean2': 11.918397239722838, 'score': 2.5112571446663465, 'p_value': 0.013648477948638972}\n"
          ],
          "name": "stdout"
        },
        {
          "output_type": "execute_result",
          "data": {
            "text/html": [
              "<div>\n",
              "<style scoped>\n",
              "    .dataframe tbody tr th:only-of-type {\n",
              "        vertical-align: middle;\n",
              "    }\n",
              "\n",
              "    .dataframe tbody tr th {\n",
              "        vertical-align: top;\n",
              "    }\n",
              "\n",
              "    .dataframe thead th {\n",
              "        text-align: right;\n",
              "    }\n",
              "</style>\n",
              "<table border=\"1\" class=\"dataframe\">\n",
              "  <thead>\n",
              "    <tr style=\"text-align: right;\">\n",
              "      <th></th>\n",
              "      <th>mean1</th>\n",
              "      <th>mean2</th>\n",
              "      <th>score</th>\n",
              "      <th>p_value</th>\n",
              "      <th>KetLuan</th>\n",
              "    </tr>\n",
              "  </thead>\n",
              "  <tbody>\n",
              "    <tr>\n",
              "      <th></th>\n",
              "      <td>12.024019</td>\n",
              "      <td>11.918397</td>\n",
              "      <td>2.511257</td>\n",
              "      <td>0.013648</td>\n",
              "      <td>Chấp nhận H1 với mức ý nghĩa 0.05</td>\n",
              "    </tr>\n",
              "  </tbody>\n",
              "</table>\n",
              "</div>"
            ],
            "text/plain": [
              "      mean1      mean2     score   p_value                            KetLuan\n",
              "  12.024019  11.918397  2.511257  0.013648  Chấp nhận H1 với mức ý nghĩa 0.05"
            ]
          },
          "metadata": {
            "tags": []
          },
          "execution_count": 37
        }
      ]
    },
    {
      "cell_type": "code",
      "metadata": {
        "colab": {
          "base_uri": "https://localhost:8080/",
          "height": 77
        },
        "id": "s9bl4No1rst3",
        "outputId": "8ed75ca6-c3c0-4d6a-e06c-2dabfa0f8e72"
      },
      "source": [
        "# alternative{‘two-sided’, ‘less’, ‘greater’}\n",
        "# kiem dinh ben trai: H0 mu = mu_0, H1: mu < mu_0\n",
        "p = {}\n",
        "p['mean1'] = np.mean(sample_1)\n",
        "p['mean2'] = my_log_mean\n",
        "p['score'], p['p_value'] = ttest_1samp(sample_1, my_log_mean, alternative='less')\n",
        "results(p)"
      ],
      "execution_count": null,
      "outputs": [
        {
          "output_type": "execute_result",
          "data": {
            "text/html": [
              "<div>\n",
              "<style scoped>\n",
              "    .dataframe tbody tr th:only-of-type {\n",
              "        vertical-align: middle;\n",
              "    }\n",
              "\n",
              "    .dataframe tbody tr th {\n",
              "        vertical-align: top;\n",
              "    }\n",
              "\n",
              "    .dataframe thead th {\n",
              "        text-align: right;\n",
              "    }\n",
              "</style>\n",
              "<table border=\"1\" class=\"dataframe\">\n",
              "  <thead>\n",
              "    <tr style=\"text-align: right;\">\n",
              "      <th></th>\n",
              "      <th>mean1</th>\n",
              "      <th>mean2</th>\n",
              "      <th>score</th>\n",
              "      <th>p_value</th>\n",
              "      <th>KetLuan</th>\n",
              "    </tr>\n",
              "  </thead>\n",
              "  <tbody>\n",
              "    <tr>\n",
              "      <th></th>\n",
              "      <td>12.024019</td>\n",
              "      <td>11.918397</td>\n",
              "      <td>2.511257</td>\n",
              "      <td>0.993176</td>\n",
              "      <td>Chấp nhận H0 với mức ý nghĩa 0.05</td>\n",
              "    </tr>\n",
              "  </tbody>\n",
              "</table>\n",
              "</div>"
            ],
            "text/plain": [
              "      mean1      mean2     score   p_value                            KetLuan\n",
              "  12.024019  11.918397  2.511257  0.993176  Chấp nhận H0 với mức ý nghĩa 0.05"
            ]
          },
          "metadata": {
            "tags": []
          },
          "execution_count": 38
        }
      ]
    },
    {
      "cell_type": "code",
      "metadata": {
        "colab": {
          "base_uri": "https://localhost:8080/",
          "height": 77
        },
        "id": "flQYKeUGs-4e",
        "outputId": "36f1fbb0-811f-4c67-da75-8c03177cffff"
      },
      "source": [
        "# alternative{‘two-sided’, ‘less’, ‘greater’}\n",
        "# kiem dinh ben phai: H0 mu = mu_0, H1: mu > mu_0\n",
        "p = {}\n",
        "p['mean1'] = np.mean(sample_1)\n",
        "p['mean2'] = my_log_mean\n",
        "p['score'], p['p_value'] = ttest_1samp(sample_1, my_log_mean, alternative='greater')\n",
        "results(p)"
      ],
      "execution_count": null,
      "outputs": [
        {
          "output_type": "execute_result",
          "data": {
            "text/html": [
              "<div>\n",
              "<style scoped>\n",
              "    .dataframe tbody tr th:only-of-type {\n",
              "        vertical-align: middle;\n",
              "    }\n",
              "\n",
              "    .dataframe tbody tr th {\n",
              "        vertical-align: top;\n",
              "    }\n",
              "\n",
              "    .dataframe thead th {\n",
              "        text-align: right;\n",
              "    }\n",
              "</style>\n",
              "<table border=\"1\" class=\"dataframe\">\n",
              "  <thead>\n",
              "    <tr style=\"text-align: right;\">\n",
              "      <th></th>\n",
              "      <th>mean1</th>\n",
              "      <th>mean2</th>\n",
              "      <th>score</th>\n",
              "      <th>p_value</th>\n",
              "      <th>KetLuan</th>\n",
              "    </tr>\n",
              "  </thead>\n",
              "  <tbody>\n",
              "    <tr>\n",
              "      <th></th>\n",
              "      <td>12.024019</td>\n",
              "      <td>11.918397</td>\n",
              "      <td>2.511257</td>\n",
              "      <td>0.006824</td>\n",
              "      <td>Chấp nhận H1 với mức ý nghĩa 0.05</td>\n",
              "    </tr>\n",
              "  </tbody>\n",
              "</table>\n",
              "</div>"
            ],
            "text/plain": [
              "      mean1      mean2     score   p_value                            KetLuan\n",
              "  12.024019  11.918397  2.511257  0.006824  Chấp nhận H1 với mức ý nghĩa 0.05"
            ]
          },
          "metadata": {
            "tags": []
          },
          "execution_count": 39
        }
      ]
    },
    {
      "cell_type": "markdown",
      "metadata": {
        "id": "RPQHpzS_77_2"
      },
      "source": [
        "**Chọn giá trị n lớn hơn 100 khác nhau**"
      ]
    },
    {
      "cell_type": "code",
      "metadata": {
        "id": "2qUGpHwZ4bYm"
      },
      "source": [
        "so_luong = np.linspace(200, 1400, 7)\n",
        "sample_s = []\n",
        "for n in (so_luong):\n",
        "    n = int(n)\n",
        "    sample_s.append(data.sample(n=n))"
      ],
      "execution_count": null,
      "outputs": []
    },
    {
      "cell_type": "code",
      "metadata": {
        "colab": {
          "base_uri": "https://localhost:8080/"
        },
        "id": "UPQEDOPO7RL9",
        "outputId": "f8df682f-c872-4735-96d9-c8fb26df5f1f"
      },
      "source": [
        "print(sample_s[1])"
      ],
      "execution_count": null,
      "outputs": [
        {
          "output_type": "stream",
          "text": [
            "478     12.601491\n",
            "1269    11.877576\n",
            "227     11.571204\n",
            "1018    11.982935\n",
            "403     12.460719\n",
            "          ...    \n",
            "866     12.424811\n",
            "119     12.007567\n",
            "465     12.093693\n",
            "280     12.339296\n",
            "371     11.808821\n",
            "Name: SalePrice, Length: 400, dtype: float64\n"
          ],
          "name": "stdout"
        }
      ]
    },
    {
      "cell_type": "markdown",
      "metadata": {
        "id": "gz7qQZrf-vDm"
      },
      "source": [
        "**Kiểm định 2 phía**: khi mẫu càng lớn thì p_value càng dần tiến đến 1. Kết luận dần tiến về phía chấp nhận H0"
      ]
    },
    {
      "cell_type": "code",
      "metadata": {
        "colab": {
          "base_uri": "https://localhost:8080/"
        },
        "id": "-GhfEfNs9nhX",
        "outputId": "5bafc64f-9980-4bab-e73a-61a0dc54d4fd"
      },
      "source": [
        "for sample in sample_s:\n",
        "    p = {}\n",
        "    p['mean1'] = np.mean(sample)\n",
        "    p['mean2'] = my_log_mean\n",
        "    p['score'], p['p_value'] = ttest_1samp(sample, my_log_mean, alternative='less')\n",
        "    print(f' kết quả khi n = {len(sample)}')\n",
        "    print(results(p))\n",
        "    print(' ')"
      ],
      "execution_count": null,
      "outputs": [
        {
          "output_type": "stream",
          "text": [
            " kết quả khi n = 200\n",
            "     mean1      mean2     score   p_value                            KetLuan\n",
            "  12.02333  11.918397  3.346444  0.999511  Chấp nhận H0 với mức ý nghĩa 0.05\n",
            " \n",
            " kết quả khi n = 400\n",
            "      mean1      mean2    score  p_value                            KetLuan\n",
            "  12.020999  11.918397  5.27947      1.0  Chấp nhận H0 với mức ý nghĩa 0.05\n",
            " \n",
            " kết quả khi n = 600\n",
            "      mean1      mean2     score  p_value                            KetLuan\n",
            "  12.016813  11.918397  6.146625      1.0  Chấp nhận H0 với mức ý nghĩa 0.05\n",
            " \n",
            " kết quả khi n = 800\n",
            "     mean1      mean2     score  p_value                            KetLuan\n",
            "  12.03014  11.918397  8.045447      1.0  Chấp nhận H0 với mức ý nghĩa 0.05\n",
            " \n",
            " kết quả khi n = 1000\n",
            "      mean1      mean2     score  p_value                            KetLuan\n",
            "  12.018173  11.918397  8.084346      1.0  Chấp nhận H0 với mức ý nghĩa 0.05\n",
            " \n",
            " kết quả khi n = 1200\n",
            "      mean1      mean2     score  p_value                            KetLuan\n",
            "  12.033702  11.918397  9.939517      1.0  Chấp nhận H0 với mức ý nghĩa 0.05\n",
            " \n",
            " kết quả khi n = 1400\n",
            "      mean1      mean2    score  p_value                            KetLuan\n",
            "  12.024474  11.918397  9.96237      1.0  Chấp nhận H0 với mức ý nghĩa 0.05\n",
            " \n"
          ],
          "name": "stdout"
        }
      ]
    },
    {
      "cell_type": "markdown",
      "metadata": {
        "id": "yNgomj399KuH"
      },
      "source": [
        "**Kiểm định một phía trái**: khi mẫu càng lớn thì p_value càng dần tiến đến 1. Kết luận dần tiến về phía chấp nhận H0"
      ]
    },
    {
      "cell_type": "code",
      "metadata": {
        "colab": {
          "base_uri": "https://localhost:8080/"
        },
        "id": "9owjAmW_9Hjs",
        "outputId": "ba3161c9-e920-4804-c3de-9a3a18b9e641"
      },
      "source": [
        "for sample in sample_s:\n",
        "    p = {}\n",
        "    p['mean1'] = np.mean(sample)\n",
        "    p['mean2'] = my_log_mean\n",
        "    p['score'], p['p_value'] = ttest_1samp(sample, my_log_mean)\n",
        "    print(f' kết quả khi n = {len(sample)}')\n",
        "    print(results(p))\n",
        "    print(' ')"
      ],
      "execution_count": null,
      "outputs": [
        {
          "output_type": "stream",
          "text": [
            " kết quả khi n = 200\n",
            "     mean1      mean2     score   p_value                            KetLuan\n",
            "  12.02333  11.918397  3.346444  0.000979  Chấp nhận H1 với mức ý nghĩa 0.05\n",
            " \n",
            " kết quả khi n = 400\n",
            "      mean1      mean2  ...       p_value                            KetLuan\n",
            "  12.020999  11.918397  ...  2.132869e-07  Chấp nhận H1 với mức ý nghĩa 0.05\n",
            "\n",
            "[1 rows x 5 columns]\n",
            " \n",
            " kết quả khi n = 600\n",
            "      mean1      mean2  ...       p_value                            KetLuan\n",
            "  12.016813  11.918397  ...  1.445161e-09  Chấp nhận H1 với mức ý nghĩa 0.05\n",
            "\n",
            "[1 rows x 5 columns]\n",
            " \n",
            " kết quả khi n = 800\n",
            "     mean1      mean2  ...       p_value                            KetLuan\n",
            "  12.03014  11.918397  ...  3.099542e-15  Chấp nhận H1 với mức ý nghĩa 0.05\n",
            "\n",
            "[1 rows x 5 columns]\n",
            " \n",
            " kết quả khi n = 1000\n",
            "      mean1      mean2  ...       p_value                            KetLuan\n",
            "  12.018173  11.918397  ...  1.796663e-15  Chấp nhận H1 với mức ý nghĩa 0.05\n",
            "\n",
            "[1 rows x 5 columns]\n",
            " \n",
            " kết quả khi n = 1200\n",
            "      mean1      mean2  ...       p_value                            KetLuan\n",
            "  12.033702  11.918397  ...  2.007425e-22  Chấp nhận H1 với mức ý nghĩa 0.05\n",
            "\n",
            "[1 rows x 5 columns]\n",
            " \n",
            " kết quả khi n = 1400\n",
            "      mean1      mean2  ...       p_value                            KetLuan\n",
            "  12.024474  11.918397  ...  1.237770e-22  Chấp nhận H1 với mức ý nghĩa 0.05\n",
            "\n",
            "[1 rows x 5 columns]\n",
            " \n"
          ],
          "name": "stdout"
        }
      ]
    },
    {
      "cell_type": "markdown",
      "metadata": {
        "id": "nJHQ79_s8taV"
      },
      "source": [
        "**Kiểm định một phía phải**: khi mẫu càng lớn thì p_value càng dần tiến về 0. Kết luận dần tiến về phía chấp nhận H1"
      ]
    },
    {
      "cell_type": "code",
      "metadata": {
        "colab": {
          "base_uri": "https://localhost:8080/"
        },
        "id": "IzGSLyuKwVUG",
        "outputId": "273eed5b-1bfb-4df7-d380-cd9bbd563e5b"
      },
      "source": [
        "for sample in sample_s:\n",
        "    p = {}\n",
        "    p['mean1'] = np.mean(sample)\n",
        "    p['mean2'] = my_log_mean\n",
        "    p['score'], p['p_value'] = ttest_1samp(sample, my_log_mean, alternative='greater')\n",
        "    print(f' kết quả khi n = {len(sample)}')\n",
        "    print(results(p))\n",
        "    print(' ')"
      ],
      "execution_count": null,
      "outputs": [
        {
          "output_type": "stream",
          "text": [
            " kết quả khi n = 200\n",
            "     mean1      mean2     score   p_value                            KetLuan\n",
            "  12.02333  11.918397  3.346444  0.000489  Chấp nhận H1 với mức ý nghĩa 0.05\n",
            " \n",
            " kết quả khi n = 400\n",
            "      mean1      mean2  ...       p_value                            KetLuan\n",
            "  12.020999  11.918397  ...  1.066434e-07  Chấp nhận H1 với mức ý nghĩa 0.05\n",
            "\n",
            "[1 rows x 5 columns]\n",
            " \n",
            " kết quả khi n = 600\n",
            "      mean1      mean2  ...       p_value                            KetLuan\n",
            "  12.016813  11.918397  ...  7.225805e-10  Chấp nhận H1 với mức ý nghĩa 0.05\n",
            "\n",
            "[1 rows x 5 columns]\n",
            " \n",
            " kết quả khi n = 800\n",
            "     mean1      mean2  ...       p_value                            KetLuan\n",
            "  12.03014  11.918397  ...  1.549771e-15  Chấp nhận H1 với mức ý nghĩa 0.05\n",
            "\n",
            "[1 rows x 5 columns]\n",
            " \n",
            " kết quả khi n = 1000\n",
            "      mean1      mean2  ...       p_value                            KetLuan\n",
            "  12.018173  11.918397  ...  8.983317e-16  Chấp nhận H1 với mức ý nghĩa 0.05\n",
            "\n",
            "[1 rows x 5 columns]\n",
            " \n",
            " kết quả khi n = 1200\n",
            "      mean1      mean2  ...       p_value                            KetLuan\n",
            "  12.033702  11.918397  ...  1.003712e-22  Chấp nhận H1 với mức ý nghĩa 0.05\n",
            "\n",
            "[1 rows x 5 columns]\n",
            " \n",
            " kết quả khi n = 1400\n",
            "      mean1      mean2  ...       p_value                            KetLuan\n",
            "  12.024474  11.918397  ...  6.188849e-23  Chấp nhận H1 với mức ý nghĩa 0.05\n",
            "\n",
            "[1 rows x 5 columns]\n",
            " \n"
          ],
          "name": "stdout"
        }
      ]
    },
    {
      "cell_type": "markdown",
      "metadata": {
        "id": "JirefGzCCLnZ"
      },
      "source": [
        "Nhận thấy để tìm ra được giá trị kỳ vọng **gần với giá trị trung bình của mẫu nhất** (*với mức ý nghĩa 0.05*). Thì giá trị kì vọng đó nên **bằng đúng với trung bình mẫu**."
      ]
    },
    {
      "cell_type": "code",
      "metadata": {
        "colab": {
          "base_uri": "https://localhost:8080/"
        },
        "id": "w0acsmoB-1Ik",
        "outputId": "1382b504-06b9-4c87-cf5d-cb5148fde147"
      },
      "source": [
        "my_log_mean_2 = 12.024474\n",
        "# suy ra my_mean\n",
        "my_mean_2 =  np.expm1(my_log_mean_2)\n",
        "print(my_mean_2)"
      ],
      "execution_count": null,
      "outputs": [
        {
          "output_type": "stream",
          "text": [
            "166786.19543785087\n"
          ],
          "name": "stdout"
        }
      ]
    },
    {
      "cell_type": "code",
      "metadata": {
        "colab": {
          "base_uri": "https://localhost:8080/",
          "height": 77
        },
        "id": "OJ4-4-WE_SL2",
        "outputId": "ca15377b-3fb7-451c-f001-fd3a14257386"
      },
      "source": [
        "p = {}\n",
        "p['mean1'] = np.mean(sample)\n",
        "p['mean2'] = my_log_mean_2\n",
        "p['score'], p['p_value'] = ttest_1samp(sample, my_log_mean_2)\n",
        "results(p)"
      ],
      "execution_count": null,
      "outputs": [
        {
          "output_type": "execute_result",
          "data": {
            "text/html": [
              "<div>\n",
              "<style scoped>\n",
              "    .dataframe tbody tr th:only-of-type {\n",
              "        vertical-align: middle;\n",
              "    }\n",
              "\n",
              "    .dataframe tbody tr th {\n",
              "        vertical-align: top;\n",
              "    }\n",
              "\n",
              "    .dataframe thead th {\n",
              "        text-align: right;\n",
              "    }\n",
              "</style>\n",
              "<table border=\"1\" class=\"dataframe\">\n",
              "  <thead>\n",
              "    <tr style=\"text-align: right;\">\n",
              "      <th></th>\n",
              "      <th>mean1</th>\n",
              "      <th>mean2</th>\n",
              "      <th>score</th>\n",
              "      <th>p_value</th>\n",
              "      <th>KetLuan</th>\n",
              "    </tr>\n",
              "  </thead>\n",
              "  <tbody>\n",
              "    <tr>\n",
              "      <th></th>\n",
              "      <td>12.024474</td>\n",
              "      <td>12.024474</td>\n",
              "      <td>-0.000017</td>\n",
              "      <td>0.999987</td>\n",
              "      <td>Chấp nhận H0 với mức ý nghĩa 0.05</td>\n",
              "    </tr>\n",
              "  </tbody>\n",
              "</table>\n",
              "</div>"
            ],
            "text/plain": [
              "      mean1      mean2     score   p_value                            KetLuan\n",
              "  12.024474  12.024474 -0.000017  0.999987  Chấp nhận H0 với mức ý nghĩa 0.05"
            ]
          },
          "metadata": {
            "tags": []
          },
          "execution_count": 145
        }
      ]
    }
  ]
}